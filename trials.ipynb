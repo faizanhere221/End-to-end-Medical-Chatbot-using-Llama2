{
 "cells": [
  {
   "cell_type": "code",
   "execution_count": null,
   "id": "fc34d22d",
   "metadata": {},
   "outputs": [],
   "source": [
    "print(\"ok\")"
   ]
  },
  {
   "cell_type": "code",
   "execution_count": null,
   "id": "155d051a",
   "metadata": {},
   "outputs": [],
   "source": [
    "from langchain import PromptTemplate\n",
    "from langchain.chains import LLMChain\n",
    "from langchain.chains import RetrievalQA\n",
    "from langchain.embeddings import HuggingFaceEmbeddings\n",
    "from langchain.vectorstores import Pinecone\n",
    "from pinecone import Pinecone\n",
    "from langchain.document_loaders import PyPDFLoader, DirectoryLoader\n",
    "from langchain.text_splitter import RecursiveCharacterTextSplitter\n",
    "from langchain.prompts import PromptTemplate\n",
    "from langchain.llms import CTransformers"
   ]
  },
  {
   "cell_type": "code",
   "execution_count": null,
   "id": "3dad7de3",
   "metadata": {},
   "outputs": [],
   "source": [
    "#import pinecone api key\n",
    "\n",
    "pc = Pinecone(api_key=\"pcsk_5UToDW_ZFL7wSybWvAQ2ypZ22UeKpZvUvmrxVcUBwzBXokdPPYWzj5QqSdYD9XtCfx5fT\")\n",
    "index = pc.Index(\"medical-chatbot\")"
   ]
  },
  {
   "cell_type": "code",
   "execution_count": null,
   "id": "78212e95",
   "metadata": {},
   "outputs": [],
   "source": [
    "def load_pdf(data):\n",
    "    loader = DirectoryLoader(data, glob=\"*.pdf\",\n",
    "                     loader_cls=PyPDFLoader)\n",
    "    \n",
    "    documents = loader.load()\n",
    "    return documents"
   ]
  }
 ],
 "metadata": {
  "kernelspec": {
   "display_name": "base",
   "language": "python",
   "name": "python3"
  },
  "language_info": {
   "codemirror_mode": {
    "name": "ipython",
    "version": 3
   },
   "file_extension": ".py",
   "mimetype": "text/x-python",
   "name": "python",
   "nbconvert_exporter": "python",
   "pygments_lexer": "ipython3",
   "version": "3.10.16"
  }
 },
 "nbformat": 4,
 "nbformat_minor": 5
}
